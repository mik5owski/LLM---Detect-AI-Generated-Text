{
 "cells": [
  {
   "cell_type": "code",
   "execution_count": 2,
   "metadata": {},
   "outputs": [],
   "source": [
    "import pandas as pd\n",
    "import matplotlib.pyplot as plt\n",
    "\n",
    "from sklearn.model_selection import train_test_split\n",
    "from sklearn.metrics import roc_curve, RocCurveDisplay, classification_report\n",
    "\n",
    "import tensorflow as tf\n",
    "from tensorflow.keras import layers\n",
    "import tensorflow_hub as hub\n",
    "\n",
    "from tensorflow.keras.callbacks import EarlyStopping, ModelCheckpoint\n",
    "\n",
    "tf.config.run_functions_eagerly(True)"
   ]
  },
  {
   "cell_type": "markdown",
   "metadata": {},
   "source": [
    "### Loading data"
   ]
  },
  {
   "cell_type": "code",
   "execution_count": 6,
   "metadata": {},
   "outputs": [],
   "source": [
    "df_prompts = pd.read_csv('data/train_prompts.csv')\n",
    "df_train = pd.read_csv('data/train_essays.csv')\n",
    "df_excerpts = pd.read_csv('data/excerpts.csv')"
   ]
  },
  {
   "cell_type": "code",
   "execution_count": 4,
   "metadata": {},
   "outputs": [
    {
     "data": {
      "text/html": [
       "<div>\n",
       "<style scoped>\n",
       "    .dataframe tbody tr th:only-of-type {\n",
       "        vertical-align: middle;\n",
       "    }\n",
       "\n",
       "    .dataframe tbody tr th {\n",
       "        vertical-align: top;\n",
       "    }\n",
       "\n",
       "    .dataframe thead th {\n",
       "        text-align: right;\n",
       "    }\n",
       "</style>\n",
       "<table border=\"1\" class=\"dataframe\">\n",
       "  <thead>\n",
       "    <tr style=\"text-align: right;\">\n",
       "      <th></th>\n",
       "      <th>prompt_id</th>\n",
       "      <th>prompt_name</th>\n",
       "      <th>instructions</th>\n",
       "      <th>source_text</th>\n",
       "    </tr>\n",
       "  </thead>\n",
       "  <tbody>\n",
       "    <tr>\n",
       "      <th>0</th>\n",
       "      <td>0</td>\n",
       "      <td>Car-free cities</td>\n",
       "      <td>Write an explanatory essay to inform fellow ci...</td>\n",
       "      <td># In German Suburb, Life Goes On Without Cars ...</td>\n",
       "    </tr>\n",
       "    <tr>\n",
       "      <th>1</th>\n",
       "      <td>1</td>\n",
       "      <td>Does the electoral college work?</td>\n",
       "      <td>Write a letter to your state senator in which ...</td>\n",
       "      <td># What Is the Electoral College? by the Office...</td>\n",
       "    </tr>\n",
       "  </tbody>\n",
       "</table>\n",
       "</div>"
      ],
      "text/plain": [
       "   prompt_id                       prompt_name  \\\n",
       "0          0                   Car-free cities   \n",
       "1          1  Does the electoral college work?   \n",
       "\n",
       "                                        instructions  \\\n",
       "0  Write an explanatory essay to inform fellow ci...   \n",
       "1  Write a letter to your state senator in which ...   \n",
       "\n",
       "                                         source_text  \n",
       "0  # In German Suburb, Life Goes On Without Cars ...  \n",
       "1  # What Is the Electoral College? by the Office...  "
      ]
     },
     "execution_count": 4,
     "metadata": {},
     "output_type": "execute_result"
    }
   ],
   "source": [
    "df_prompts"
   ]
  },
  {
   "cell_type": "code",
   "execution_count": 7,
   "metadata": {},
   "outputs": [
    {
     "data": {
      "text/html": [
       "<div>\n",
       "<style scoped>\n",
       "    .dataframe tbody tr th:only-of-type {\n",
       "        vertical-align: middle;\n",
       "    }\n",
       "\n",
       "    .dataframe tbody tr th {\n",
       "        vertical-align: top;\n",
       "    }\n",
       "\n",
       "    .dataframe thead th {\n",
       "        text-align: right;\n",
       "    }\n",
       "</style>\n",
       "<table border=\"1\" class=\"dataframe\">\n",
       "  <thead>\n",
       "    <tr style=\"text-align: right;\">\n",
       "      <th></th>\n",
       "      <th>excerpt_id</th>\n",
       "      <th>excerpt_prompt</th>\n",
       "      <th>excerp_title</th>\n",
       "      <th>excerpt</th>\n",
       "    </tr>\n",
       "  </thead>\n",
       "  <tbody>\n",
       "    <tr>\n",
       "      <th>0</th>\n",
       "      <td>0</td>\n",
       "      <td>cars</td>\n",
       "      <td>In German Suburb, Life Goes On Without Cars by...</td>\n",
       "      <td>VAUBAN, Germany-Residents of this upscale comm...</td>\n",
       "    </tr>\n",
       "    <tr>\n",
       "      <th>1</th>\n",
       "      <td>1</td>\n",
       "      <td>cars</td>\n",
       "      <td>Paris bans driving due to smog by Robert Duffer</td>\n",
       "      <td>After days of near-record pollution, Paris enf...</td>\n",
       "    </tr>\n",
       "    <tr>\n",
       "      <th>2</th>\n",
       "      <td>2</td>\n",
       "      <td>cars</td>\n",
       "      <td>Car-free day is spinning into a big hit in Bog...</td>\n",
       "      <td>BOGOTA, Colombia-In a program that's set to sp...</td>\n",
       "    </tr>\n",
       "    <tr>\n",
       "      <th>3</th>\n",
       "      <td>3</td>\n",
       "      <td>cars</td>\n",
       "      <td>The End of Car Culture by Elisabeth Rosenthal</td>\n",
       "      <td>President Obama's ambitious goals to curb the ...</td>\n",
       "    </tr>\n",
       "    <tr>\n",
       "      <th>4</th>\n",
       "      <td>4</td>\n",
       "      <td>electoral</td>\n",
       "      <td>What Is the Electoral College? by the Office o...</td>\n",
       "      <td>The Electoral College is a process, not a plac...</td>\n",
       "    </tr>\n",
       "    <tr>\n",
       "      <th>5</th>\n",
       "      <td>5</td>\n",
       "      <td>electoral</td>\n",
       "      <td>The Indefensible Electoral College: Why even t...</td>\n",
       "      <td>What have Richard Nixon, Jimmy Carter, Bob Dol...</td>\n",
       "    </tr>\n",
       "    <tr>\n",
       "      <th>6</th>\n",
       "      <td>6</td>\n",
       "      <td>electoral</td>\n",
       "      <td>In Defense of the Electoral College: Five reas...</td>\n",
       "      <td>The Electoral College is widely regarded as an...</td>\n",
       "    </tr>\n",
       "  </tbody>\n",
       "</table>\n",
       "</div>"
      ],
      "text/plain": [
       "   excerpt_id excerpt_prompt  \\\n",
       "0           0           cars   \n",
       "1           1           cars   \n",
       "2           2           cars   \n",
       "3           3           cars   \n",
       "4           4      electoral   \n",
       "5           5      electoral   \n",
       "6           6      electoral   \n",
       "\n",
       "                                        excerp_title  \\\n",
       "0  In German Suburb, Life Goes On Without Cars by...   \n",
       "1    Paris bans driving due to smog by Robert Duffer   \n",
       "2  Car-free day is spinning into a big hit in Bog...   \n",
       "3      The End of Car Culture by Elisabeth Rosenthal   \n",
       "4  What Is the Electoral College? by the Office o...   \n",
       "5  The Indefensible Electoral College: Why even t...   \n",
       "6  In Defense of the Electoral College: Five reas...   \n",
       "\n",
       "                                             excerpt  \n",
       "0  VAUBAN, Germany-Residents of this upscale comm...  \n",
       "1  After days of near-record pollution, Paris enf...  \n",
       "2  BOGOTA, Colombia-In a program that's set to sp...  \n",
       "3  President Obama's ambitious goals to curb the ...  \n",
       "4  The Electoral College is a process, not a plac...  \n",
       "5  What have Richard Nixon, Jimmy Carter, Bob Dol...  \n",
       "6  The Electoral College is widely regarded as an...  "
      ]
     },
     "execution_count": 7,
     "metadata": {},
     "output_type": "execute_result"
    }
   ],
   "source": [
    "df_excerpts"
   ]
  },
  {
   "cell_type": "code",
   "execution_count": 17,
   "metadata": {},
   "outputs": [
    {
     "data": {
      "text/html": [
       "<div>\n",
       "<style scoped>\n",
       "    .dataframe tbody tr th:only-of-type {\n",
       "        vertical-align: middle;\n",
       "    }\n",
       "\n",
       "    .dataframe tbody tr th {\n",
       "        vertical-align: top;\n",
       "    }\n",
       "\n",
       "    .dataframe thead th {\n",
       "        text-align: right;\n",
       "    }\n",
       "</style>\n",
       "<table border=\"1\" class=\"dataframe\">\n",
       "  <thead>\n",
       "    <tr style=\"text-align: right;\">\n",
       "      <th></th>\n",
       "      <th>id</th>\n",
       "      <th>prompt_id</th>\n",
       "      <th>text</th>\n",
       "      <th>generated</th>\n",
       "    </tr>\n",
       "  </thead>\n",
       "  <tbody>\n",
       "    <tr>\n",
       "      <th>0</th>\n",
       "      <td>0059830c</td>\n",
       "      <td>0</td>\n",
       "      <td>Cars. Cars have been around since they became ...</td>\n",
       "      <td>0</td>\n",
       "    </tr>\n",
       "    <tr>\n",
       "      <th>1</th>\n",
       "      <td>005db917</td>\n",
       "      <td>0</td>\n",
       "      <td>Transportation is a large necessity in most co...</td>\n",
       "      <td>0</td>\n",
       "    </tr>\n",
       "    <tr>\n",
       "      <th>2</th>\n",
       "      <td>008f63e3</td>\n",
       "      <td>0</td>\n",
       "      <td>\"America's love affair with it's vehicles seem...</td>\n",
       "      <td>0</td>\n",
       "    </tr>\n",
       "    <tr>\n",
       "      <th>3</th>\n",
       "      <td>00940276</td>\n",
       "      <td>0</td>\n",
       "      <td>How often do you ride in a car? Do you drive a...</td>\n",
       "      <td>0</td>\n",
       "    </tr>\n",
       "    <tr>\n",
       "      <th>4</th>\n",
       "      <td>00c39458</td>\n",
       "      <td>0</td>\n",
       "      <td>Cars are a wonderful thing. They are perhaps o...</td>\n",
       "      <td>0</td>\n",
       "    </tr>\n",
       "    <tr>\n",
       "      <th>...</th>\n",
       "      <td>...</td>\n",
       "      <td>...</td>\n",
       "      <td>...</td>\n",
       "      <td>...</td>\n",
       "    </tr>\n",
       "    <tr>\n",
       "      <th>1373</th>\n",
       "      <td>fe6ff9a5</td>\n",
       "      <td>1</td>\n",
       "      <td>There has been a fuss about the Elector Colleg...</td>\n",
       "      <td>0</td>\n",
       "    </tr>\n",
       "    <tr>\n",
       "      <th>1374</th>\n",
       "      <td>ff669174</td>\n",
       "      <td>0</td>\n",
       "      <td>Limiting car usage has many advantages. Such a...</td>\n",
       "      <td>0</td>\n",
       "    </tr>\n",
       "    <tr>\n",
       "      <th>1375</th>\n",
       "      <td>ffa247e0</td>\n",
       "      <td>0</td>\n",
       "      <td>There's a new trend that has been developing f...</td>\n",
       "      <td>0</td>\n",
       "    </tr>\n",
       "    <tr>\n",
       "      <th>1376</th>\n",
       "      <td>ffc237e9</td>\n",
       "      <td>0</td>\n",
       "      <td>As we all know cars are a big part of our soci...</td>\n",
       "      <td>0</td>\n",
       "    </tr>\n",
       "    <tr>\n",
       "      <th>1377</th>\n",
       "      <td>ffe1ca0d</td>\n",
       "      <td>0</td>\n",
       "      <td>Cars have been around since the 1800's and hav...</td>\n",
       "      <td>0</td>\n",
       "    </tr>\n",
       "  </tbody>\n",
       "</table>\n",
       "<p>1378 rows × 4 columns</p>\n",
       "</div>"
      ],
      "text/plain": [
       "            id  prompt_id                                               text  \\\n",
       "0     0059830c          0  Cars. Cars have been around since they became ...   \n",
       "1     005db917          0  Transportation is a large necessity in most co...   \n",
       "2     008f63e3          0  \"America's love affair with it's vehicles seem...   \n",
       "3     00940276          0  How often do you ride in a car? Do you drive a...   \n",
       "4     00c39458          0  Cars are a wonderful thing. They are perhaps o...   \n",
       "...        ...        ...                                                ...   \n",
       "1373  fe6ff9a5          1  There has been a fuss about the Elector Colleg...   \n",
       "1374  ff669174          0  Limiting car usage has many advantages. Such a...   \n",
       "1375  ffa247e0          0  There's a new trend that has been developing f...   \n",
       "1376  ffc237e9          0  As we all know cars are a big part of our soci...   \n",
       "1377  ffe1ca0d          0  Cars have been around since the 1800's and hav...   \n",
       "\n",
       "      generated  \n",
       "0             0  \n",
       "1             0  \n",
       "2             0  \n",
       "3             0  \n",
       "4             0  \n",
       "...         ...  \n",
       "1373          0  \n",
       "1374          0  \n",
       "1375          0  \n",
       "1376          0  \n",
       "1377          0  \n",
       "\n",
       "[1378 rows x 4 columns]"
      ]
     },
     "execution_count": 17,
     "metadata": {},
     "output_type": "execute_result"
    }
   ],
   "source": [
    "df_train"
   ]
  },
  {
   "cell_type": "markdown",
   "metadata": {},
   "source": [
    "### Copying training set and adding text length parameter"
   ]
  },
  {
   "cell_type": "code",
   "execution_count": 18,
   "metadata": {},
   "outputs": [],
   "source": [
    "df_train_an = df_train.copy()"
   ]
  },
  {
   "cell_type": "code",
   "execution_count": 19,
   "metadata": {},
   "outputs": [],
   "source": [
    "df_train_an.drop(['id', 'prompt_id'], axis=1, inplace=True)\n",
    "df_train_an['text_len'] = [len(text) for text in df_train_an['text']]"
   ]
  },
  {
   "cell_type": "code",
   "execution_count": 20,
   "metadata": {},
   "outputs": [
    {
     "data": {
      "text/html": [
       "<div>\n",
       "<style scoped>\n",
       "    .dataframe tbody tr th:only-of-type {\n",
       "        vertical-align: middle;\n",
       "    }\n",
       "\n",
       "    .dataframe tbody tr th {\n",
       "        vertical-align: top;\n",
       "    }\n",
       "\n",
       "    .dataframe thead th {\n",
       "        text-align: right;\n",
       "    }\n",
       "</style>\n",
       "<table border=\"1\" class=\"dataframe\">\n",
       "  <thead>\n",
       "    <tr style=\"text-align: right;\">\n",
       "      <th></th>\n",
       "      <th>text</th>\n",
       "      <th>generated</th>\n",
       "      <th>text_len</th>\n",
       "    </tr>\n",
       "  </thead>\n",
       "  <tbody>\n",
       "    <tr>\n",
       "      <th>0</th>\n",
       "      <td>Cars. Cars have been around since they became ...</td>\n",
       "      <td>0</td>\n",
       "      <td>3289</td>\n",
       "    </tr>\n",
       "    <tr>\n",
       "      <th>1</th>\n",
       "      <td>Transportation is a large necessity in most co...</td>\n",
       "      <td>0</td>\n",
       "      <td>2738</td>\n",
       "    </tr>\n",
       "    <tr>\n",
       "      <th>2</th>\n",
       "      <td>\"America's love affair with it's vehicles seem...</td>\n",
       "      <td>0</td>\n",
       "      <td>4428</td>\n",
       "    </tr>\n",
       "    <tr>\n",
       "      <th>3</th>\n",
       "      <td>How often do you ride in a car? Do you drive a...</td>\n",
       "      <td>0</td>\n",
       "      <td>4013</td>\n",
       "    </tr>\n",
       "    <tr>\n",
       "      <th>4</th>\n",
       "      <td>Cars are a wonderful thing. They are perhaps o...</td>\n",
       "      <td>0</td>\n",
       "      <td>4698</td>\n",
       "    </tr>\n",
       "    <tr>\n",
       "      <th>...</th>\n",
       "      <td>...</td>\n",
       "      <td>...</td>\n",
       "      <td>...</td>\n",
       "    </tr>\n",
       "    <tr>\n",
       "      <th>1373</th>\n",
       "      <td>There has been a fuss about the Elector Colleg...</td>\n",
       "      <td>0</td>\n",
       "      <td>2406</td>\n",
       "    </tr>\n",
       "    <tr>\n",
       "      <th>1374</th>\n",
       "      <td>Limiting car usage has many advantages. Such a...</td>\n",
       "      <td>0</td>\n",
       "      <td>2073</td>\n",
       "    </tr>\n",
       "    <tr>\n",
       "      <th>1375</th>\n",
       "      <td>There's a new trend that has been developing f...</td>\n",
       "      <td>0</td>\n",
       "      <td>4339</td>\n",
       "    </tr>\n",
       "    <tr>\n",
       "      <th>1376</th>\n",
       "      <td>As we all know cars are a big part of our soci...</td>\n",
       "      <td>0</td>\n",
       "      <td>2810</td>\n",
       "    </tr>\n",
       "    <tr>\n",
       "      <th>1377</th>\n",
       "      <td>Cars have been around since the 1800's and hav...</td>\n",
       "      <td>0</td>\n",
       "      <td>2697</td>\n",
       "    </tr>\n",
       "  </tbody>\n",
       "</table>\n",
       "<p>1378 rows × 3 columns</p>\n",
       "</div>"
      ],
      "text/plain": [
       "                                                   text  generated  text_len\n",
       "0     Cars. Cars have been around since they became ...          0      3289\n",
       "1     Transportation is a large necessity in most co...          0      2738\n",
       "2     \"America's love affair with it's vehicles seem...          0      4428\n",
       "3     How often do you ride in a car? Do you drive a...          0      4013\n",
       "4     Cars are a wonderful thing. They are perhaps o...          0      4698\n",
       "...                                                 ...        ...       ...\n",
       "1373  There has been a fuss about the Elector Colleg...          0      2406\n",
       "1374  Limiting car usage has many advantages. Such a...          0      2073\n",
       "1375  There's a new trend that has been developing f...          0      4339\n",
       "1376  As we all know cars are a big part of our soci...          0      2810\n",
       "1377  Cars have been around since the 1800's and hav...          0      2697\n",
       "\n",
       "[1378 rows x 3 columns]"
      ]
     },
     "execution_count": 20,
     "metadata": {},
     "output_type": "execute_result"
    }
   ],
   "source": [
    "df_train_an"
   ]
  },
  {
   "cell_type": "code",
   "execution_count": 21,
   "metadata": {},
   "outputs": [
    {
     "data": {
      "text/plain": [
       "count    1378.000000\n",
       "mean     3169.050798\n",
       "std       920.588198\n",
       "min      1356.000000\n",
       "25%      2554.250000\n",
       "50%      2985.500000\n",
       "75%      3623.750000\n",
       "max      8436.000000\n",
       "Name: text_len, dtype: float64"
      ]
     },
     "execution_count": 21,
     "metadata": {},
     "output_type": "execute_result"
    }
   ],
   "source": [
    "df_train_an['text_len'].describe()"
   ]
  },
  {
   "cell_type": "code",
   "execution_count": 23,
   "metadata": {},
   "outputs": [
    {
     "data": {
      "image/png": "[encoded data removed]",
      "text/plain": [
       "<Figure size 640x480 with 1 Axes>"
      ]
     },
     "metadata": {},
     "output_type": "display_data"
    }
   ],
   "source": [
    "class_counts = df_train_an.generated.value_counts().values\n",
    "class_names = df_train_an.generated.unique()\n",
    "tick = ['Real','Generated']\n",
    "\n",
    "fig, ax = plt.subplots()\n",
    "bars = ax.bar(class_names, class_counts, tick_label=tick)\n",
    "ax.bar_label(bars)\n",
    "plt.title('Number of real and generated essays');"
   ]
  },
  {
   "cell_type": "markdown",
   "metadata": {},
   "source": [
    "### Realizing the dataset is imbalanced a new source of training material was found. \n",
    "Please see README for source, Note this dataset is to big to be uploaded to a remote."
   ]
  },
  {
   "cell_type": "code",
   "execution_count": 25,
   "metadata": {},
   "outputs": [
    {
     "data": {
      "text/html": [
       "<div>\n",
       "<style scoped>\n",
       "    .dataframe tbody tr th:only-of-type {\n",
       "        vertical-align: middle;\n",
       "    }\n",
       "\n",
       "    .dataframe tbody tr th {\n",
       "        vertical-align: top;\n",
       "    }\n",
       "\n",
       "    .dataframe thead th {\n",
       "        text-align: right;\n",
       "    }\n",
       "</style>\n",
       "<table border=\"1\" class=\"dataframe\">\n",
       "  <thead>\n",
       "    <tr style=\"text-align: right;\">\n",
       "      <th></th>\n",
       "      <th>text</th>\n",
       "      <th>label</th>\n",
       "      <th>source</th>\n",
       "      <th>fold</th>\n",
       "      <th>essay_id</th>\n",
       "      <th>prompt</th>\n",
       "      <th>length</th>\n",
       "    </tr>\n",
       "  </thead>\n",
       "  <tbody>\n",
       "    <tr>\n",
       "      <th>0</th>\n",
       "      <td>There are alot reasons to keep our the despise...</td>\n",
       "      <td>0</td>\n",
       "      <td>persuade_corpus</td>\n",
       "      <td>2</td>\n",
       "      <td>NaN</td>\n",
       "      <td>NaN</td>\n",
       "      <td>2093</td>\n",
       "    </tr>\n",
       "    <tr>\n",
       "      <th>1</th>\n",
       "      <td>Driving smart cars that drive by themself has ...</td>\n",
       "      <td>0</td>\n",
       "      <td>persuade_corpus</td>\n",
       "      <td>4</td>\n",
       "      <td>NaN</td>\n",
       "      <td>NaN</td>\n",
       "      <td>2296</td>\n",
       "    </tr>\n",
       "    <tr>\n",
       "      <th>2</th>\n",
       "      <td>Dear Principal,\\n\\nI believe that students at ...</td>\n",
       "      <td>0</td>\n",
       "      <td>persuade_corpus</td>\n",
       "      <td>0</td>\n",
       "      <td>NaN</td>\n",
       "      <td>NaN</td>\n",
       "      <td>1654</td>\n",
       "    </tr>\n",
       "    <tr>\n",
       "      <th>3</th>\n",
       "      <td>Dear Principal,\\n\\nCommunity service should no...</td>\n",
       "      <td>0</td>\n",
       "      <td>persuade_corpus</td>\n",
       "      <td>0</td>\n",
       "      <td>NaN</td>\n",
       "      <td>NaN</td>\n",
       "      <td>2638</td>\n",
       "    </tr>\n",
       "    <tr>\n",
       "      <th>4</th>\n",
       "      <td>My argument for the development of the driverl...</td>\n",
       "      <td>0</td>\n",
       "      <td>persuade_corpus</td>\n",
       "      <td>3</td>\n",
       "      <td>NaN</td>\n",
       "      <td>NaN</td>\n",
       "      <td>1834</td>\n",
       "    </tr>\n",
       "    <tr>\n",
       "      <th>...</th>\n",
       "      <td>...</td>\n",
       "      <td>...</td>\n",
       "      <td>...</td>\n",
       "      <td>...</td>\n",
       "      <td>...</td>\n",
       "      <td>...</td>\n",
       "      <td>...</td>\n",
       "    </tr>\n",
       "    <tr>\n",
       "      <th>159451</th>\n",
       "      <td>\"Oh man I didn't make the soccer team!\", yelle...</td>\n",
       "      <td>0</td>\n",
       "      <td>persuade_corpus</td>\n",
       "      <td>7</td>\n",
       "      <td>F7341069C4A4</td>\n",
       "      <td>NaN</td>\n",
       "      <td>2299</td>\n",
       "    </tr>\n",
       "    <tr>\n",
       "      <th>159452</th>\n",
       "      <td>I believe that using this technology could be ...</td>\n",
       "      <td>0</td>\n",
       "      <td>persuade_corpus</td>\n",
       "      <td>8</td>\n",
       "      <td>AFE6E553DAC2</td>\n",
       "      <td>NaN</td>\n",
       "      <td>1887</td>\n",
       "    </tr>\n",
       "    <tr>\n",
       "      <th>159453</th>\n",
       "      <td>The Face on Mars is a fascinating phenomenon t...</td>\n",
       "      <td>1</td>\n",
       "      <td>falcon_180b_v1</td>\n",
       "      <td>3</td>\n",
       "      <td>falcon_180b_v1_600</td>\n",
       "      <td>You have read the article 'Unmasking the Face ...</td>\n",
       "      <td>1856</td>\n",
       "    </tr>\n",
       "    <tr>\n",
       "      <th>159454</th>\n",
       "      <td>Texting &amp; Driving\\n\\nUsing your phone while dr...</td>\n",
       "      <td>0</td>\n",
       "      <td>persuade_corpus</td>\n",
       "      <td>1</td>\n",
       "      <td>A5F84C104693</td>\n",
       "      <td>NaN</td>\n",
       "      <td>2053</td>\n",
       "    </tr>\n",
       "    <tr>\n",
       "      <th>159455</th>\n",
       "      <td>Dear Principal,\\n\\nI have been really good thi...</td>\n",
       "      <td>0</td>\n",
       "      <td>persuade_corpus</td>\n",
       "      <td>4</td>\n",
       "      <td>A148C659E98B</td>\n",
       "      <td>NaN</td>\n",
       "      <td>1410</td>\n",
       "    </tr>\n",
       "  </tbody>\n",
       "</table>\n",
       "<p>159456 rows × 7 columns</p>\n",
       "</div>"
      ],
      "text/plain": [
       "                                                     text  label  \\\n",
       "0       There are alot reasons to keep our the despise...      0   \n",
       "1       Driving smart cars that drive by themself has ...      0   \n",
       "2       Dear Principal,\\n\\nI believe that students at ...      0   \n",
       "3       Dear Principal,\\n\\nCommunity service should no...      0   \n",
       "4       My argument for the development of the driverl...      0   \n",
       "...                                                   ...    ...   \n",
       "159451  \"Oh man I didn't make the soccer team!\", yelle...      0   \n",
       "159452  I believe that using this technology could be ...      0   \n",
       "159453  The Face on Mars is a fascinating phenomenon t...      1   \n",
       "159454  Texting & Driving\\n\\nUsing your phone while dr...      0   \n",
       "159455  Dear Principal,\\n\\nI have been really good thi...      0   \n",
       "\n",
       "                 source  fold            essay_id  \\\n",
       "0       persuade_corpus     2                 NaN   \n",
       "1       persuade_corpus     4                 NaN   \n",
       "2       persuade_corpus     0                 NaN   \n",
       "3       persuade_corpus     0                 NaN   \n",
       "4       persuade_corpus     3                 NaN   \n",
       "...                 ...   ...                 ...   \n",
       "159451  persuade_corpus     7        F7341069C4A4   \n",
       "159452  persuade_corpus     8        AFE6E553DAC2   \n",
       "159453   falcon_180b_v1     3  falcon_180b_v1_600   \n",
       "159454  persuade_corpus     1        A5F84C104693   \n",
       "159455  persuade_corpus     4        A148C659E98B   \n",
       "\n",
       "                                                   prompt  length  \n",
       "0                                                     NaN    2093  \n",
       "1                                                     NaN    2296  \n",
       "2                                                     NaN    1654  \n",
       "3                                                     NaN    2638  \n",
       "4                                                     NaN    1834  \n",
       "...                                                   ...     ...  \n",
       "159451                                                NaN    2299  \n",
       "159452                                                NaN    1887  \n",
       "159453  You have read the article 'Unmasking the Face ...    1856  \n",
       "159454                                                NaN    2053  \n",
       "159455                                                NaN    1410  \n",
       "\n",
       "[159456 rows x 7 columns]"
      ]
     },
     "execution_count": 25,
     "metadata": {},
     "output_type": "execute_result"
    }
   ],
   "source": [
    "training1 = pd.read_csv('../DATA/LLM_data/train_drcat_01.csv')\n",
    "training2 = pd.read_csv('../DATA/LLM_data/train_drcat_02.csv')\n",
    "training3 = pd.read_csv('../DATA/LLM_data/train_drcat_03.csv')\n",
    "training4 = pd.read_csv('../DATA/LLM_data/train_drcat_04.csv')\n",
    "\n",
    "df_training = pd.concat([training1,training2, training3, training4], ignore_index=True)\n",
    "df_training['length'] = [len(text) for text in df_training['text']]\n",
    "df_training"
   ]
  },
  {
   "cell_type": "code",
   "execution_count": 27,
   "metadata": {},
   "outputs": [
    {
     "data": {
      "image/png": "[encoded data removed]",
      "text/plain": [
       "<Figure size 640x480 with 1 Axes>"
      ]
     },
     "metadata": {},
     "output_type": "display_data"
    }
   ],
   "source": [
    "class_counts = df_training.label.value_counts().values\n",
    "class_names = df_training.label.unique()\n",
    "tick = ['Real','Generated']\n",
    "\n",
    "fig, ax = plt.subplots()\n",
    "bars = ax.bar(class_names, class_counts, tick_label=tick)\n",
    "ax.bar_label(bars)\n",
    "plt.title('Number of real and generated essays');"
   ]
  },
  {
   "cell_type": "markdown",
   "metadata": {},
   "source": [
    "### Splitting data"
   ]
  },
  {
   "cell_type": "code",
   "execution_count": 28,
   "metadata": {},
   "outputs": [],
   "source": [
    "X_train, X_test, y_train, y_test = train_test_split(df_training['text'], df_training['label'])"
   ]
  },
  {
   "cell_type": "markdown",
   "metadata": {},
   "source": [
    "### Creating a model"
   ]
  },
  {
   "cell_type": "code",
   "execution_count": 29,
   "metadata": {},
   "outputs": [
    {
     "name": "stdout",
     "output_type": "stream",
     "text": [
      "Model: \"sequential\"\n",
      "_________________________________________________________________\n",
      " Layer (type)                Output Shape              Param #   \n",
      "=================================================================\n",
      " keras_layer (KerasLayer)    (None, 128)               124642688 \n",
      "                                                                 \n",
      " dense (Dense)               (None, 16)                2064      \n",
      "                                                                 \n",
      " dense_1 (Dense)             (None, 1)                 17        \n",
      "                                                                 \n",
      "=================================================================\n",
      "Total params: 124644769 (475.48 MB)\n",
      "Trainable params: 2081 (8.13 KB)\n",
      "Non-trainable params: 124642688 (475.47 MB)\n",
      "_________________________________________________________________\n"
     ]
    }
   ],
   "source": [
    "hub_layer = hub.KerasLayer(\"https://www.kaggle.com/models/google/nnlm/frameworks/TensorFlow2/variations/en-dim128/versions/1\",\n",
    "                           input_shape=[], dtype=tf.string)\n",
    "\n",
    "model = tf.keras.models.Sequential()\n",
    "model.add(hub_layer)\n",
    "model.add(layers.Dense(16, activation='relu'))\n",
    "model.add(layers.Dense(1, activation='sigmoid'))\n",
    "\n",
    "model.summary()"
   ]
  },
  {
   "cell_type": "code",
   "execution_count": 30,
   "metadata": {},
   "outputs": [],
   "source": [
    "model.compile(\n",
    "    loss=\"binary_crossentropy\",\n",
    "    optimizer=tf.keras.optimizers.RMSprop(learning_rate=0.0001),\n",
    "    metrics='accuracy'\n",
    ")"
   ]
  },
  {
   "cell_type": "code",
   "execution_count": 31,
   "metadata": {},
   "outputs": [],
   "source": [
    "early_stopping = EarlyStopping(monitor='val_loss', patience=3, restore_best_weights=True)\n",
    "checkpoint = ModelCheckpoint(monitor='val_loss', filepath='output/best_model', save_best_only=True, )\n",
    "\n",
    "callbacks = [early_stopping, checkpoint]"
   ]
  },
  {
   "cell_type": "markdown",
   "metadata": {},
   "source": [
    "### Fitting the model"
   ]
  },
  {
   "cell_type": "code",
   "execution_count": 32,
   "metadata": {},
   "outputs": [
    {
     "name": "stdout",
     "output_type": "stream",
     "text": [
      "Epoch 1/100\n"
     ]
    },
    {
     "name": "stderr",
     "output_type": "stream",
     "text": [
      "c:\\Users\\48795\\anaconda3\\envs\\Python3115-tensorflow\\Lib\\site-packages\\tensorflow\\python\\data\\ops\\structured_function.py:258: UserWarning: Even though the `tf.config.experimental_run_functions_eagerly` option is set, this option does not apply to tf.data functions. To force eager execution of tf.data functions, please use `tf.data.experimental.enable_debug_mode()`.\n",
      "  warnings.warn(\n"
     ]
    },
    {
     "name": "stdout",
     "output_type": "stream",
     "text": [
      "935/935 [==============================] - ETA: 0s - loss: 0.4267 - accuracy: 0.8017INFO:tensorflow:Assets written to: output\\best_model\\assets\n"
     ]
    },
    {
     "name": "stderr",
     "output_type": "stream",
     "text": [
      "INFO:tensorflow:Assets written to: output\\best_model\\assets\n"
     ]
    },
    {
     "name": "stdout",
     "output_type": "stream",
     "text": [
      "935/935 [==============================] - 196s 210ms/step - loss: 0.4267 - accuracy: 0.8017 - val_loss: 0.2970 - val_accuracy: 0.8939\n",
      "Epoch 2/100\n",
      "935/935 [==============================] - ETA: 0s - loss: 0.2416 - accuracy: 0.9167INFO:tensorflow:Assets written to: output\\best_model\\assets\n"
     ]
    },
    {
     "name": "stderr",
     "output_type": "stream",
     "text": [
      "INFO:tensorflow:Assets written to: output\\best_model\\assets\n"
     ]
    },
    {
     "name": "stdout",
     "output_type": "stream",
     "text": [
      "935/935 [==============================] - 166s 178ms/step - loss: 0.2416 - accuracy: 0.9167 - val_loss: 0.2026 - val_accuracy: 0.9310\n",
      "Epoch 3/100\n",
      "935/935 [==============================] - ETA: 0s - loss: 0.1807 - accuracy: 0.9393INFO:tensorflow:Assets written to: output\\best_model\\assets\n"
     ]
    },
    {
     "name": "stderr",
     "output_type": "stream",
     "text": [
      "INFO:tensorflow:Assets written to: output\\best_model\\assets\n"
     ]
    },
    {
     "name": "stdout",
     "output_type": "stream",
     "text": [
      "935/935 [==============================] - 162s 173ms/step - loss: 0.1807 - accuracy: 0.9393 - val_loss: 0.1647 - val_accuracy: 0.9460\n",
      "Epoch 4/100\n",
      "935/935 [==============================] - ETA: 0s - loss: 0.1527 - accuracy: 0.9492INFO:tensorflow:Assets written to: output\\best_model\\assets\n"
     ]
    },
    {
     "name": "stderr",
     "output_type": "stream",
     "text": [
      "INFO:tensorflow:Assets written to: output\\best_model\\assets\n"
     ]
    },
    {
     "name": "stdout",
     "output_type": "stream",
     "text": [
      "935/935 [==============================] - 163s 175ms/step - loss: 0.1527 - accuracy: 0.9492 - val_loss: 0.1447 - val_accuracy: 0.9532\n",
      "Epoch 5/100\n",
      "935/935 [==============================] - ETA: 0s - loss: 0.1367 - accuracy: 0.9547INFO:tensorflow:Assets written to: output\\best_model\\assets\n"
     ]
    },
    {
     "name": "stderr",
     "output_type": "stream",
     "text": [
      "INFO:tensorflow:Assets written to: output\\best_model\\assets\n"
     ]
    },
    {
     "name": "stdout",
     "output_type": "stream",
     "text": [
      "935/935 [==============================] - 164s 175ms/step - loss: 0.1367 - accuracy: 0.9547 - val_loss: 0.1318 - val_accuracy: 0.9565\n",
      "Epoch 6/100\n",
      "935/935 [==============================] - ETA: 0s - loss: 0.1261 - accuracy: 0.9578INFO:tensorflow:Assets written to: output\\best_model\\assets\n"
     ]
    },
    {
     "name": "stderr",
     "output_type": "stream",
     "text": [
      "INFO:tensorflow:Assets written to: output\\best_model\\assets\n"
     ]
    },
    {
     "name": "stdout",
     "output_type": "stream",
     "text": [
      "935/935 [==============================] - 164s 175ms/step - loss: 0.1261 - accuracy: 0.9578 - val_loss: 0.1232 - val_accuracy: 0.9598\n",
      "Epoch 7/100\n",
      "935/935 [==============================] - ETA: 0s - loss: 0.1185 - accuracy: 0.9604INFO:tensorflow:Assets written to: output\\best_model\\assets\n"
     ]
    },
    {
     "name": "stderr",
     "output_type": "stream",
     "text": [
      "INFO:tensorflow:Assets written to: output\\best_model\\assets\n"
     ]
    },
    {
     "name": "stdout",
     "output_type": "stream",
     "text": [
      "935/935 [==============================] - 163s 175ms/step - loss: 0.1185 - accuracy: 0.9604 - val_loss: 0.1163 - val_accuracy: 0.9618\n",
      "Epoch 8/100\n",
      "935/935 [==============================] - ETA: 0s - loss: 0.1126 - accuracy: 0.9619INFO:tensorflow:Assets written to: output\\best_model\\assets\n"
     ]
    },
    {
     "name": "stderr",
     "output_type": "stream",
     "text": [
      "INFO:tensorflow:Assets written to: output\\best_model\\assets\n"
     ]
    },
    {
     "name": "stdout",
     "output_type": "stream",
     "text": [
      "935/935 [==============================] - 161s 172ms/step - loss: 0.1126 - accuracy: 0.9619 - val_loss: 0.1113 - val_accuracy: 0.9636\n",
      "Epoch 9/100\n",
      "935/935 [==============================] - ETA: 0s - loss: 0.1078 - accuracy: 0.9633INFO:tensorflow:Assets written to: output\\best_model\\assets\n"
     ]
    },
    {
     "name": "stderr",
     "output_type": "stream",
     "text": [
      "INFO:tensorflow:Assets written to: output\\best_model\\assets\n"
     ]
    },
    {
     "name": "stdout",
     "output_type": "stream",
     "text": [
      "935/935 [==============================] - 168s 180ms/step - loss: 0.1078 - accuracy: 0.9633 - val_loss: 0.1069 - val_accuracy: 0.9646\n",
      "Epoch 10/100\n",
      "935/935 [==============================] - ETA: 0s - loss: 0.1040 - accuracy: 0.9645INFO:tensorflow:Assets written to: output\\best_model\\assets\n"
     ]
    },
    {
     "name": "stderr",
     "output_type": "stream",
     "text": [
      "INFO:tensorflow:Assets written to: output\\best_model\\assets\n"
     ]
    },
    {
     "name": "stdout",
     "output_type": "stream",
     "text": [
      "935/935 [==============================] - 175s 188ms/step - loss: 0.1040 - accuracy: 0.9645 - val_loss: 0.1034 - val_accuracy: 0.9660\n",
      "Epoch 11/100\n",
      "935/935 [==============================] - ETA: 0s - loss: 0.1007 - accuracy: 0.9658INFO:tensorflow:Assets written to: output\\best_model\\assets\n"
     ]
    },
    {
     "name": "stderr",
     "output_type": "stream",
     "text": [
      "INFO:tensorflow:Assets written to: output\\best_model\\assets\n"
     ]
    },
    {
     "name": "stdout",
     "output_type": "stream",
     "text": [
      "935/935 [==============================] - 180s 193ms/step - loss: 0.1007 - accuracy: 0.9658 - val_loss: 0.1002 - val_accuracy: 0.9670\n",
      "Epoch 12/100\n",
      "935/935 [==============================] - ETA: 0s - loss: 0.0978 - accuracy: 0.9664INFO:tensorflow:Assets written to: output\\best_model\\assets\n"
     ]
    },
    {
     "name": "stderr",
     "output_type": "stream",
     "text": [
      "INFO:tensorflow:Assets written to: output\\best_model\\assets\n"
     ]
    },
    {
     "name": "stdout",
     "output_type": "stream",
     "text": [
      "935/935 [==============================] - 182s 195ms/step - loss: 0.0978 - accuracy: 0.9664 - val_loss: 0.0979 - val_accuracy: 0.9672\n",
      "Epoch 13/100\n",
      "935/935 [==============================] - ETA: 0s - loss: 0.0953 - accuracy: 0.9671INFO:tensorflow:Assets written to: output\\best_model\\assets\n"
     ]
    },
    {
     "name": "stderr",
     "output_type": "stream",
     "text": [
      "INFO:tensorflow:Assets written to: output\\best_model\\assets\n"
     ]
    },
    {
     "name": "stdout",
     "output_type": "stream",
     "text": [
      "935/935 [==============================] - 197s 211ms/step - loss: 0.0953 - accuracy: 0.9671 - val_loss: 0.0954 - val_accuracy: 0.9686\n",
      "Epoch 14/100\n",
      "935/935 [==============================] - ETA: 0s - loss: 0.0931 - accuracy: 0.9677INFO:tensorflow:Assets written to: output\\best_model\\assets\n"
     ]
    },
    {
     "name": "stderr",
     "output_type": "stream",
     "text": [
      "INFO:tensorflow:Assets written to: output\\best_model\\assets\n"
     ]
    },
    {
     "name": "stdout",
     "output_type": "stream",
     "text": [
      "935/935 [==============================] - 212s 227ms/step - loss: 0.0931 - accuracy: 0.9677 - val_loss: 0.0934 - val_accuracy: 0.9693\n",
      "Epoch 15/100\n",
      "935/935 [==============================] - ETA: 0s - loss: 0.0911 - accuracy: 0.9683INFO:tensorflow:Assets written to: output\\best_model\\assets\n"
     ]
    },
    {
     "name": "stderr",
     "output_type": "stream",
     "text": [
      "INFO:tensorflow:Assets written to: output\\best_model\\assets\n"
     ]
    },
    {
     "name": "stdout",
     "output_type": "stream",
     "text": [
      "935/935 [==============================] - 223s 239ms/step - loss: 0.0911 - accuracy: 0.9683 - val_loss: 0.0914 - val_accuracy: 0.9694\n",
      "Epoch 16/100\n",
      "935/935 [==============================] - ETA: 0s - loss: 0.0894 - accuracy: 0.9689INFO:tensorflow:Assets written to: output\\best_model\\assets\n"
     ]
    },
    {
     "name": "stderr",
     "output_type": "stream",
     "text": [
      "INFO:tensorflow:Assets written to: output\\best_model\\assets\n"
     ]
    },
    {
     "name": "stdout",
     "output_type": "stream",
     "text": [
      "935/935 [==============================] - 217s 233ms/step - loss: 0.0894 - accuracy: 0.9689 - val_loss: 0.0900 - val_accuracy: 0.9699\n",
      "Epoch 17/100\n",
      "935/935 [==============================] - ETA: 0s - loss: 0.0878 - accuracy: 0.9694INFO:tensorflow:Assets written to: output\\best_model\\assets\n"
     ]
    },
    {
     "name": "stderr",
     "output_type": "stream",
     "text": [
      "INFO:tensorflow:Assets written to: output\\best_model\\assets\n"
     ]
    },
    {
     "name": "stdout",
     "output_type": "stream",
     "text": [
      "935/935 [==============================] - 218s 233ms/step - loss: 0.0878 - accuracy: 0.9694 - val_loss: 0.0884 - val_accuracy: 0.9706\n",
      "Epoch 18/100\n",
      "935/935 [==============================] - ETA: 0s - loss: 0.0864 - accuracy: 0.9700INFO:tensorflow:Assets written to: output\\best_model\\assets\n"
     ]
    },
    {
     "name": "stderr",
     "output_type": "stream",
     "text": [
      "INFO:tensorflow:Assets written to: output\\best_model\\assets\n"
     ]
    },
    {
     "name": "stdout",
     "output_type": "stream",
     "text": [
      "935/935 [==============================] - 223s 238ms/step - loss: 0.0864 - accuracy: 0.9700 - val_loss: 0.0870 - val_accuracy: 0.9708\n",
      "Epoch 19/100\n",
      "935/935 [==============================] - ETA: 0s - loss: 0.0851 - accuracy: 0.9705INFO:tensorflow:Assets written to: output\\best_model\\assets\n"
     ]
    },
    {
     "name": "stderr",
     "output_type": "stream",
     "text": [
      "INFO:tensorflow:Assets written to: output\\best_model\\assets\n"
     ]
    },
    {
     "name": "stdout",
     "output_type": "stream",
     "text": [
      "935/935 [==============================] - 210s 225ms/step - loss: 0.0851 - accuracy: 0.9705 - val_loss: 0.0859 - val_accuracy: 0.9708\n",
      "Epoch 20/100\n",
      "935/935 [==============================] - ETA: 0s - loss: 0.0839 - accuracy: 0.9710INFO:tensorflow:Assets written to: output\\best_model\\assets\n"
     ]
    },
    {
     "name": "stderr",
     "output_type": "stream",
     "text": [
      "INFO:tensorflow:Assets written to: output\\best_model\\assets\n"
     ]
    },
    {
     "name": "stdout",
     "output_type": "stream",
     "text": [
      "935/935 [==============================] - 216s 231ms/step - loss: 0.0839 - accuracy: 0.9710 - val_loss: 0.0846 - val_accuracy: 0.9714\n",
      "Epoch 21/100\n",
      "935/935 [==============================] - ETA: 0s - loss: 0.0828 - accuracy: 0.9712INFO:tensorflow:Assets written to: output\\best_model\\assets\n"
     ]
    },
    {
     "name": "stderr",
     "output_type": "stream",
     "text": [
      "INFO:tensorflow:Assets written to: output\\best_model\\assets\n"
     ]
    },
    {
     "name": "stdout",
     "output_type": "stream",
     "text": [
      "935/935 [==============================] - 242s 259ms/step - loss: 0.0828 - accuracy: 0.9712 - val_loss: 0.0837 - val_accuracy: 0.9719\n",
      "Epoch 22/100\n",
      "935/935 [==============================] - ETA: 0s - loss: 0.0818 - accuracy: 0.9716INFO:tensorflow:Assets written to: output\\best_model\\assets\n"
     ]
    },
    {
     "name": "stderr",
     "output_type": "stream",
     "text": [
      "INFO:tensorflow:Assets written to: output\\best_model\\assets\n"
     ]
    },
    {
     "name": "stdout",
     "output_type": "stream",
     "text": [
      "935/935 [==============================] - 235s 251ms/step - loss: 0.0818 - accuracy: 0.9716 - val_loss: 0.0827 - val_accuracy: 0.9726\n",
      "Epoch 23/100\n",
      "935/935 [==============================] - ETA: 0s - loss: 0.0809 - accuracy: 0.9720INFO:tensorflow:Assets written to: output\\best_model\\assets\n"
     ]
    },
    {
     "name": "stderr",
     "output_type": "stream",
     "text": [
      "INFO:tensorflow:Assets written to: output\\best_model\\assets\n"
     ]
    },
    {
     "name": "stdout",
     "output_type": "stream",
     "text": [
      "935/935 [==============================] - 249s 266ms/step - loss: 0.0809 - accuracy: 0.9720 - val_loss: 0.0822 - val_accuracy: 0.9724\n",
      "Epoch 24/100\n",
      "935/935 [==============================] - ETA: 0s - loss: 0.0800 - accuracy: 0.9725INFO:tensorflow:Assets written to: output\\best_model\\assets\n"
     ]
    },
    {
     "name": "stderr",
     "output_type": "stream",
     "text": [
      "INFO:tensorflow:Assets written to: output\\best_model\\assets\n"
     ]
    },
    {
     "name": "stdout",
     "output_type": "stream",
     "text": [
      "935/935 [==============================] - 208s 223ms/step - loss: 0.0800 - accuracy: 0.9725 - val_loss: 0.0810 - val_accuracy: 0.9732\n",
      "Epoch 25/100\n",
      "935/935 [==============================] - ETA: 0s - loss: 0.0791 - accuracy: 0.9725INFO:tensorflow:Assets written to: output\\best_model\\assets\n"
     ]
    },
    {
     "name": "stderr",
     "output_type": "stream",
     "text": [
      "INFO:tensorflow:Assets written to: output\\best_model\\assets\n"
     ]
    },
    {
     "name": "stdout",
     "output_type": "stream",
     "text": [
      "935/935 [==============================] - 222s 238ms/step - loss: 0.0791 - accuracy: 0.9725 - val_loss: 0.0803 - val_accuracy: 0.9735\n",
      "Epoch 26/100\n",
      "935/935 [==============================] - ETA: 0s - loss: 0.0784 - accuracy: 0.9729INFO:tensorflow:Assets written to: output\\best_model\\assets\n"
     ]
    },
    {
     "name": "stderr",
     "output_type": "stream",
     "text": [
      "INFO:tensorflow:Assets written to: output\\best_model\\assets\n"
     ]
    },
    {
     "name": "stdout",
     "output_type": "stream",
     "text": [
      "935/935 [==============================] - 228s 244ms/step - loss: 0.0784 - accuracy: 0.9729 - val_loss: 0.0796 - val_accuracy: 0.9737\n",
      "Epoch 27/100\n",
      "935/935 [==============================] - ETA: 0s - loss: 0.0777 - accuracy: 0.9732INFO:tensorflow:Assets written to: output\\best_model\\assets\n"
     ]
    },
    {
     "name": "stderr",
     "output_type": "stream",
     "text": [
      "INFO:tensorflow:Assets written to: output\\best_model\\assets\n"
     ]
    },
    {
     "name": "stdout",
     "output_type": "stream",
     "text": [
      "935/935 [==============================] - 252s 270ms/step - loss: 0.0777 - accuracy: 0.9732 - val_loss: 0.0790 - val_accuracy: 0.9739\n",
      "Epoch 28/100\n",
      "935/935 [==============================] - ETA: 0s - loss: 0.0770 - accuracy: 0.9734INFO:tensorflow:Assets written to: output\\best_model\\assets\n"
     ]
    },
    {
     "name": "stderr",
     "output_type": "stream",
     "text": [
      "INFO:tensorflow:Assets written to: output\\best_model\\assets\n"
     ]
    },
    {
     "name": "stdout",
     "output_type": "stream",
     "text": [
      "935/935 [==============================] - 234s 250ms/step - loss: 0.0770 - accuracy: 0.9734 - val_loss: 0.0783 - val_accuracy: 0.9745\n",
      "Epoch 29/100\n",
      "935/935 [==============================] - ETA: 0s - loss: 0.0763 - accuracy: 0.9738INFO:tensorflow:Assets written to: output\\best_model\\assets\n"
     ]
    },
    {
     "name": "stderr",
     "output_type": "stream",
     "text": [
      "INFO:tensorflow:Assets written to: output\\best_model\\assets\n"
     ]
    },
    {
     "name": "stdout",
     "output_type": "stream",
     "text": [
      "935/935 [==============================] - 250s 267ms/step - loss: 0.0763 - accuracy: 0.9738 - val_loss: 0.0776 - val_accuracy: 0.9746\n",
      "Epoch 30/100\n",
      "935/935 [==============================] - ETA: 0s - loss: 0.0758 - accuracy: 0.9739INFO:tensorflow:Assets written to: output\\best_model\\assets\n"
     ]
    },
    {
     "name": "stderr",
     "output_type": "stream",
     "text": [
      "INFO:tensorflow:Assets written to: output\\best_model\\assets\n"
     ]
    },
    {
     "name": "stdout",
     "output_type": "stream",
     "text": [
      "935/935 [==============================] - 226s 242ms/step - loss: 0.0758 - accuracy: 0.9739 - val_loss: 0.0771 - val_accuracy: 0.9747\n",
      "Epoch 31/100\n",
      "935/935 [==============================] - ETA: 0s - loss: 0.0751 - accuracy: 0.9744INFO:tensorflow:Assets written to: output\\best_model\\assets\n"
     ]
    },
    {
     "name": "stderr",
     "output_type": "stream",
     "text": [
      "INFO:tensorflow:Assets written to: output\\best_model\\assets\n"
     ]
    },
    {
     "name": "stdout",
     "output_type": "stream",
     "text": [
      "935/935 [==============================] - 223s 239ms/step - loss: 0.0751 - accuracy: 0.9744 - val_loss: 0.0765 - val_accuracy: 0.9747\n",
      "Epoch 32/100\n",
      "935/935 [==============================] - ETA: 0s - loss: 0.0746 - accuracy: 0.9745INFO:tensorflow:Assets written to: output\\best_model\\assets\n"
     ]
    },
    {
     "name": "stderr",
     "output_type": "stream",
     "text": [
      "INFO:tensorflow:Assets written to: output\\best_model\\assets\n"
     ]
    },
    {
     "name": "stdout",
     "output_type": "stream",
     "text": [
      "935/935 [==============================] - 254s 272ms/step - loss: 0.0746 - accuracy: 0.9745 - val_loss: 0.0762 - val_accuracy: 0.9749\n",
      "Epoch 33/100\n",
      "935/935 [==============================] - ETA: 0s - loss: 0.0740 - accuracy: 0.9747INFO:tensorflow:Assets written to: output\\best_model\\assets\n"
     ]
    },
    {
     "name": "stderr",
     "output_type": "stream",
     "text": [
      "INFO:tensorflow:Assets written to: output\\best_model\\assets\n"
     ]
    },
    {
     "name": "stdout",
     "output_type": "stream",
     "text": [
      "935/935 [==============================] - 247s 265ms/step - loss: 0.0740 - accuracy: 0.9747 - val_loss: 0.0755 - val_accuracy: 0.9753\n",
      "Epoch 34/100\n",
      "935/935 [==============================] - ETA: 0s - loss: 0.0735 - accuracy: 0.9750INFO:tensorflow:Assets written to: output\\best_model\\assets\n"
     ]
    },
    {
     "name": "stderr",
     "output_type": "stream",
     "text": [
      "INFO:tensorflow:Assets written to: output\\best_model\\assets\n"
     ]
    },
    {
     "name": "stdout",
     "output_type": "stream",
     "text": [
      "935/935 [==============================] - 244s 261ms/step - loss: 0.0735 - accuracy: 0.9750 - val_loss: 0.0752 - val_accuracy: 0.9754\n",
      "Epoch 35/100\n",
      "935/935 [==============================] - ETA: 0s - loss: 0.0730 - accuracy: 0.9752INFO:tensorflow:Assets written to: output\\best_model\\assets\n"
     ]
    },
    {
     "name": "stderr",
     "output_type": "stream",
     "text": [
      "INFO:tensorflow:Assets written to: output\\best_model\\assets\n"
     ]
    },
    {
     "name": "stdout",
     "output_type": "stream",
     "text": [
      "935/935 [==============================] - 235s 252ms/step - loss: 0.0730 - accuracy: 0.9752 - val_loss: 0.0746 - val_accuracy: 0.9753\n",
      "Epoch 36/100\n",
      "935/935 [==============================] - ETA: 0s - loss: 0.0725 - accuracy: 0.9754INFO:tensorflow:Assets written to: output\\best_model\\assets\n"
     ]
    },
    {
     "name": "stderr",
     "output_type": "stream",
     "text": [
      "INFO:tensorflow:Assets written to: output\\best_model\\assets\n"
     ]
    },
    {
     "name": "stdout",
     "output_type": "stream",
     "text": [
      "935/935 [==============================] - 268s 287ms/step - loss: 0.0725 - accuracy: 0.9754 - val_loss: 0.0740 - val_accuracy: 0.9757\n",
      "Epoch 37/100\n",
      "935/935 [==============================] - ETA: 0s - loss: 0.0720 - accuracy: 0.9757INFO:tensorflow:Assets written to: output\\best_model\\assets\n"
     ]
    },
    {
     "name": "stderr",
     "output_type": "stream",
     "text": [
      "INFO:tensorflow:Assets written to: output\\best_model\\assets\n"
     ]
    },
    {
     "name": "stdout",
     "output_type": "stream",
     "text": [
      "935/935 [==============================] - 255s 273ms/step - loss: 0.0720 - accuracy: 0.9757 - val_loss: 0.0736 - val_accuracy: 0.9756\n",
      "Epoch 38/100\n",
      "935/935 [==============================] - ETA: 0s - loss: 0.0715 - accuracy: 0.9758INFO:tensorflow:Assets written to: output\\best_model\\assets\n"
     ]
    },
    {
     "name": "stderr",
     "output_type": "stream",
     "text": [
      "INFO:tensorflow:Assets written to: output\\best_model\\assets\n"
     ]
    },
    {
     "name": "stdout",
     "output_type": "stream",
     "text": [
      "935/935 [==============================] - 245s 263ms/step - loss: 0.0715 - accuracy: 0.9758 - val_loss: 0.0733 - val_accuracy: 0.9758\n",
      "Epoch 39/100\n",
      "935/935 [==============================] - ETA: 0s - loss: 0.0710 - accuracy: 0.9760INFO:tensorflow:Assets written to: output\\best_model\\assets\n"
     ]
    },
    {
     "name": "stderr",
     "output_type": "stream",
     "text": [
      "INFO:tensorflow:Assets written to: output\\best_model\\assets\n"
     ]
    },
    {
     "name": "stdout",
     "output_type": "stream",
     "text": [
      "935/935 [==============================] - 230s 246ms/step - loss: 0.0710 - accuracy: 0.9760 - val_loss: 0.0728 - val_accuracy: 0.9757\n",
      "Epoch 40/100\n",
      "935/935 [==============================] - ETA: 0s - loss: 0.0706 - accuracy: 0.9761INFO:tensorflow:Assets written to: output\\best_model\\assets\n"
     ]
    },
    {
     "name": "stderr",
     "output_type": "stream",
     "text": [
      "INFO:tensorflow:Assets written to: output\\best_model\\assets\n"
     ]
    },
    {
     "name": "stdout",
     "output_type": "stream",
     "text": [
      "935/935 [==============================] - 217s 232ms/step - loss: 0.0706 - accuracy: 0.9761 - val_loss: 0.0722 - val_accuracy: 0.9761\n",
      "Epoch 41/100\n",
      "935/935 [==============================] - ETA: 0s - loss: 0.0701 - accuracy: 0.9765INFO:tensorflow:Assets written to: output\\best_model\\assets\n"
     ]
    },
    {
     "name": "stderr",
     "output_type": "stream",
     "text": [
      "INFO:tensorflow:Assets written to: output\\best_model\\assets\n"
     ]
    },
    {
     "name": "stdout",
     "output_type": "stream",
     "text": [
      "935/935 [==============================] - 217s 232ms/step - loss: 0.0701 - accuracy: 0.9765 - val_loss: 0.0718 - val_accuracy: 0.9762\n",
      "Epoch 42/100\n",
      "935/935 [==============================] - ETA: 0s - loss: 0.0696 - accuracy: 0.9765INFO:tensorflow:Assets written to: output\\best_model\\assets\n"
     ]
    },
    {
     "name": "stderr",
     "output_type": "stream",
     "text": [
      "INFO:tensorflow:Assets written to: output\\best_model\\assets\n"
     ]
    },
    {
     "name": "stdout",
     "output_type": "stream",
     "text": [
      "935/935 [==============================] - 227s 243ms/step - loss: 0.0696 - accuracy: 0.9765 - val_loss: 0.0715 - val_accuracy: 0.9764\n",
      "Epoch 43/100\n",
      "935/935 [==============================] - ETA: 0s - loss: 0.0692 - accuracy: 0.9765INFO:tensorflow:Assets written to: output\\best_model\\assets\n"
     ]
    },
    {
     "name": "stderr",
     "output_type": "stream",
     "text": [
      "INFO:tensorflow:Assets written to: output\\best_model\\assets\n"
     ]
    },
    {
     "name": "stdout",
     "output_type": "stream",
     "text": [
      "935/935 [==============================] - 230s 246ms/step - loss: 0.0692 - accuracy: 0.9765 - val_loss: 0.0711 - val_accuracy: 0.9765\n",
      "Epoch 44/100\n",
      "935/935 [==============================] - ETA: 0s - loss: 0.0687 - accuracy: 0.9769INFO:tensorflow:Assets written to: output\\best_model\\assets\n"
     ]
    },
    {
     "name": "stderr",
     "output_type": "stream",
     "text": [
      "INFO:tensorflow:Assets written to: output\\best_model\\assets\n"
     ]
    },
    {
     "name": "stdout",
     "output_type": "stream",
     "text": [
      "935/935 [==============================] - 224s 239ms/step - loss: 0.0687 - accuracy: 0.9769 - val_loss: 0.0708 - val_accuracy: 0.9765\n",
      "Epoch 45/100\n",
      "935/935 [==============================] - ETA: 0s - loss: 0.0684 - accuracy: 0.9771INFO:tensorflow:Assets written to: output\\best_model\\assets\n"
     ]
    },
    {
     "name": "stderr",
     "output_type": "stream",
     "text": [
      "INFO:tensorflow:Assets written to: output\\best_model\\assets\n"
     ]
    },
    {
     "name": "stdout",
     "output_type": "stream",
     "text": [
      "935/935 [==============================] - 225s 241ms/step - loss: 0.0684 - accuracy: 0.9771 - val_loss: 0.0702 - val_accuracy: 0.9766\n",
      "Epoch 46/100\n",
      "935/935 [==============================] - ETA: 0s - loss: 0.0679 - accuracy: 0.9771INFO:tensorflow:Assets written to: output\\best_model\\assets\n"
     ]
    },
    {
     "name": "stderr",
     "output_type": "stream",
     "text": [
      "INFO:tensorflow:Assets written to: output\\best_model\\assets\n"
     ]
    },
    {
     "name": "stdout",
     "output_type": "stream",
     "text": [
      "935/935 [==============================] - 228s 244ms/step - loss: 0.0679 - accuracy: 0.9771 - val_loss: 0.0700 - val_accuracy: 0.9768\n",
      "Epoch 47/100\n",
      "935/935 [==============================] - ETA: 0s - loss: 0.0675 - accuracy: 0.9774INFO:tensorflow:Assets written to: output\\best_model\\assets\n"
     ]
    },
    {
     "name": "stderr",
     "output_type": "stream",
     "text": [
      "INFO:tensorflow:Assets written to: output\\best_model\\assets\n"
     ]
    },
    {
     "name": "stdout",
     "output_type": "stream",
     "text": [
      "935/935 [==============================] - 234s 251ms/step - loss: 0.0675 - accuracy: 0.9774 - val_loss: 0.0695 - val_accuracy: 0.9769\n",
      "Epoch 48/100\n",
      "935/935 [==============================] - ETA: 0s - loss: 0.0671 - accuracy: 0.9774INFO:tensorflow:Assets written to: output\\best_model\\assets\n"
     ]
    },
    {
     "name": "stderr",
     "output_type": "stream",
     "text": [
      "INFO:tensorflow:Assets written to: output\\best_model\\assets\n"
     ]
    },
    {
     "name": "stdout",
     "output_type": "stream",
     "text": [
      "935/935 [==============================] - 255s 273ms/step - loss: 0.0671 - accuracy: 0.9774 - val_loss: 0.0692 - val_accuracy: 0.9771\n",
      "Epoch 49/100\n",
      "935/935 [==============================] - ETA: 0s - loss: 0.0668 - accuracy: 0.9776INFO:tensorflow:Assets written to: output\\best_model\\assets\n"
     ]
    },
    {
     "name": "stderr",
     "output_type": "stream",
     "text": [
      "INFO:tensorflow:Assets written to: output\\best_model\\assets\n"
     ]
    },
    {
     "name": "stdout",
     "output_type": "stream",
     "text": [
      "935/935 [==============================] - 228s 244ms/step - loss: 0.0668 - accuracy: 0.9776 - val_loss: 0.0688 - val_accuracy: 0.9770\n",
      "Epoch 50/100\n",
      "935/935 [==============================] - ETA: 0s - loss: 0.0664 - accuracy: 0.9777INFO:tensorflow:Assets written to: output\\best_model\\assets\n"
     ]
    },
    {
     "name": "stderr",
     "output_type": "stream",
     "text": [
      "INFO:tensorflow:Assets written to: output\\best_model\\assets\n"
     ]
    },
    {
     "name": "stdout",
     "output_type": "stream",
     "text": [
      "935/935 [==============================] - 224s 239ms/step - loss: 0.0664 - accuracy: 0.9777 - val_loss: 0.0686 - val_accuracy: 0.9772\n",
      "Epoch 51/100\n",
      "935/935 [==============================] - ETA: 0s - loss: 0.0660 - accuracy: 0.9780INFO:tensorflow:Assets written to: output\\best_model\\assets\n"
     ]
    },
    {
     "name": "stderr",
     "output_type": "stream",
     "text": [
      "INFO:tensorflow:Assets written to: output\\best_model\\assets\n"
     ]
    },
    {
     "name": "stdout",
     "output_type": "stream",
     "text": [
      "935/935 [==============================] - 227s 243ms/step - loss: 0.0660 - accuracy: 0.9780 - val_loss: 0.0681 - val_accuracy: 0.9771\n",
      "Epoch 52/100\n",
      "935/935 [==============================] - ETA: 0s - loss: 0.0656 - accuracy: 0.9781INFO:tensorflow:Assets written to: output\\best_model\\assets\n"
     ]
    },
    {
     "name": "stderr",
     "output_type": "stream",
     "text": [
      "INFO:tensorflow:Assets written to: output\\best_model\\assets\n"
     ]
    },
    {
     "name": "stdout",
     "output_type": "stream",
     "text": [
      "935/935 [==============================] - 247s 264ms/step - loss: 0.0656 - accuracy: 0.9781 - val_loss: 0.0678 - val_accuracy: 0.9773\n",
      "Epoch 53/100\n",
      "935/935 [==============================] - ETA: 0s - loss: 0.0653 - accuracy: 0.9781INFO:tensorflow:Assets written to: output\\best_model\\assets\n"
     ]
    },
    {
     "name": "stderr",
     "output_type": "stream",
     "text": [
      "INFO:tensorflow:Assets written to: output\\best_model\\assets\n"
     ]
    },
    {
     "name": "stdout",
     "output_type": "stream",
     "text": [
      "935/935 [==============================] - 254s 272ms/step - loss: 0.0653 - accuracy: 0.9781 - val_loss: 0.0674 - val_accuracy: 0.9773\n",
      "Epoch 54/100\n",
      "935/935 [==============================] - ETA: 0s - loss: 0.0649 - accuracy: 0.9781INFO:tensorflow:Assets written to: output\\best_model\\assets\n"
     ]
    },
    {
     "name": "stderr",
     "output_type": "stream",
     "text": [
      "INFO:tensorflow:Assets written to: output\\best_model\\assets\n"
     ]
    },
    {
     "name": "stdout",
     "output_type": "stream",
     "text": [
      "935/935 [==============================] - 246s 263ms/step - loss: 0.0649 - accuracy: 0.9781 - val_loss: 0.0671 - val_accuracy: 0.9777\n",
      "Epoch 55/100\n",
      "935/935 [==============================] - 234s 251ms/step - loss: 0.0646 - accuracy: 0.9784 - val_loss: 0.0675 - val_accuracy: 0.9783\n",
      "Epoch 56/100\n",
      "935/935 [==============================] - ETA: 0s - loss: 0.0642 - accuracy: 0.9785INFO:tensorflow:Assets written to: output\\best_model\\assets\n"
     ]
    },
    {
     "name": "stderr",
     "output_type": "stream",
     "text": [
      "INFO:tensorflow:Assets written to: output\\best_model\\assets\n"
     ]
    },
    {
     "name": "stdout",
     "output_type": "stream",
     "text": [
      "935/935 [==============================] - 273s 292ms/step - loss: 0.0642 - accuracy: 0.9785 - val_loss: 0.0665 - val_accuracy: 0.9780\n",
      "Epoch 57/100\n",
      "935/935 [==============================] - ETA: 0s - loss: 0.0639 - accuracy: 0.9786INFO:tensorflow:Assets written to: output\\best_model\\assets\n"
     ]
    },
    {
     "name": "stderr",
     "output_type": "stream",
     "text": [
      "INFO:tensorflow:Assets written to: output\\best_model\\assets\n"
     ]
    },
    {
     "name": "stdout",
     "output_type": "stream",
     "text": [
      "935/935 [==============================] - 256s 274ms/step - loss: 0.0639 - accuracy: 0.9786 - val_loss: 0.0661 - val_accuracy: 0.9781\n",
      "Epoch 58/100\n",
      "935/935 [==============================] - ETA: 0s - loss: 0.0636 - accuracy: 0.9788INFO:tensorflow:Assets written to: output\\best_model\\assets\n"
     ]
    },
    {
     "name": "stderr",
     "output_type": "stream",
     "text": [
      "INFO:tensorflow:Assets written to: output\\best_model\\assets\n"
     ]
    },
    {
     "name": "stdout",
     "output_type": "stream",
     "text": [
      "935/935 [==============================] - 244s 261ms/step - loss: 0.0636 - accuracy: 0.9788 - val_loss: 0.0659 - val_accuracy: 0.9785\n",
      "Epoch 59/100\n",
      "935/935 [==============================] - ETA: 0s - loss: 0.0633 - accuracy: 0.9787INFO:tensorflow:Assets written to: output\\best_model\\assets\n"
     ]
    },
    {
     "name": "stderr",
     "output_type": "stream",
     "text": [
      "INFO:tensorflow:Assets written to: output\\best_model\\assets\n"
     ]
    },
    {
     "name": "stdout",
     "output_type": "stream",
     "text": [
      "935/935 [==============================] - 260s 278ms/step - loss: 0.0633 - accuracy: 0.9787 - val_loss: 0.0656 - val_accuracy: 0.9780\n",
      "Epoch 60/100\n",
      "935/935 [==============================] - ETA: 0s - loss: 0.0629 - accuracy: 0.9789INFO:tensorflow:Assets written to: output\\best_model\\assets\n"
     ]
    },
    {
     "name": "stderr",
     "output_type": "stream",
     "text": [
      "INFO:tensorflow:Assets written to: output\\best_model\\assets\n"
     ]
    },
    {
     "name": "stdout",
     "output_type": "stream",
     "text": [
      "935/935 [==============================] - 254s 272ms/step - loss: 0.0629 - accuracy: 0.9789 - val_loss: 0.0652 - val_accuracy: 0.9784\n",
      "Epoch 61/100\n",
      "935/935 [==============================] - ETA: 0s - loss: 0.0625 - accuracy: 0.9790INFO:tensorflow:Assets written to: output\\best_model\\assets\n"
     ]
    },
    {
     "name": "stderr",
     "output_type": "stream",
     "text": [
      "INFO:tensorflow:Assets written to: output\\best_model\\assets\n"
     ]
    },
    {
     "name": "stdout",
     "output_type": "stream",
     "text": [
      "935/935 [==============================] - 253s 271ms/step - loss: 0.0625 - accuracy: 0.9790 - val_loss: 0.0649 - val_accuracy: 0.9786\n",
      "Epoch 62/100\n",
      "935/935 [==============================] - ETA: 0s - loss: 0.0622 - accuracy: 0.9790INFO:tensorflow:Assets written to: output\\best_model\\assets\n"
     ]
    },
    {
     "name": "stderr",
     "output_type": "stream",
     "text": [
      "INFO:tensorflow:Assets written to: output\\best_model\\assets\n"
     ]
    },
    {
     "name": "stdout",
     "output_type": "stream",
     "text": [
      "935/935 [==============================] - 248s 265ms/step - loss: 0.0622 - accuracy: 0.9790 - val_loss: 0.0647 - val_accuracy: 0.9781\n",
      "Epoch 63/100\n",
      "935/935 [==============================] - ETA: 0s - loss: 0.0619 - accuracy: 0.9792INFO:tensorflow:Assets written to: output\\best_model\\assets\n"
     ]
    },
    {
     "name": "stderr",
     "output_type": "stream",
     "text": [
      "INFO:tensorflow:Assets written to: output\\best_model\\assets\n"
     ]
    },
    {
     "name": "stdout",
     "output_type": "stream",
     "text": [
      "935/935 [==============================] - 235s 251ms/step - loss: 0.0619 - accuracy: 0.9792 - val_loss: 0.0646 - val_accuracy: 0.9790\n",
      "Epoch 64/100\n",
      "935/935 [==============================] - ETA: 0s - loss: 0.0616 - accuracy: 0.9793INFO:tensorflow:Assets written to: output\\best_model\\assets\n"
     ]
    },
    {
     "name": "stderr",
     "output_type": "stream",
     "text": [
      "INFO:tensorflow:Assets written to: output\\best_model\\assets\n"
     ]
    },
    {
     "name": "stdout",
     "output_type": "stream",
     "text": [
      "935/935 [==============================] - 268s 287ms/step - loss: 0.0616 - accuracy: 0.9793 - val_loss: 0.0640 - val_accuracy: 0.9788\n",
      "Epoch 65/100\n",
      "935/935 [==============================] - ETA: 0s - loss: 0.0613 - accuracy: 0.9792INFO:tensorflow:Assets written to: output\\best_model\\assets\n"
     ]
    },
    {
     "name": "stderr",
     "output_type": "stream",
     "text": [
      "INFO:tensorflow:Assets written to: output\\best_model\\assets\n"
     ]
    },
    {
     "name": "stdout",
     "output_type": "stream",
     "text": [
      "935/935 [==============================] - 244s 261ms/step - loss: 0.0613 - accuracy: 0.9792 - val_loss: 0.0637 - val_accuracy: 0.9788\n",
      "Epoch 66/100\n",
      "935/935 [==============================] - ETA: 0s - loss: 0.0610 - accuracy: 0.9795INFO:tensorflow:Assets written to: output\\best_model\\assets\n"
     ]
    },
    {
     "name": "stderr",
     "output_type": "stream",
     "text": [
      "INFO:tensorflow:Assets written to: output\\best_model\\assets\n"
     ]
    },
    {
     "name": "stdout",
     "output_type": "stream",
     "text": [
      "935/935 [==============================] - 226s 242ms/step - loss: 0.0610 - accuracy: 0.9795 - val_loss: 0.0636 - val_accuracy: 0.9790\n",
      "Epoch 67/100\n",
      "935/935 [==============================] - ETA: 0s - loss: 0.0607 - accuracy: 0.9796INFO:tensorflow:Assets written to: output\\best_model\\assets\n"
     ]
    },
    {
     "name": "stderr",
     "output_type": "stream",
     "text": [
      "INFO:tensorflow:Assets written to: output\\best_model\\assets\n"
     ]
    },
    {
     "name": "stdout",
     "output_type": "stream",
     "text": [
      "935/935 [==============================] - 224s 240ms/step - loss: 0.0607 - accuracy: 0.9796 - val_loss: 0.0632 - val_accuracy: 0.9793\n",
      "Epoch 68/100\n",
      "935/935 [==============================] - ETA: 0s - loss: 0.0604 - accuracy: 0.9797INFO:tensorflow:Assets written to: output\\best_model\\assets\n"
     ]
    },
    {
     "name": "stderr",
     "output_type": "stream",
     "text": [
      "INFO:tensorflow:Assets written to: output\\best_model\\assets\n"
     ]
    },
    {
     "name": "stdout",
     "output_type": "stream",
     "text": [
      "935/935 [==============================] - 190s 203ms/step - loss: 0.0604 - accuracy: 0.9797 - val_loss: 0.0630 - val_accuracy: 0.9795\n",
      "Epoch 69/100\n",
      "935/935 [==============================] - ETA: 0s - loss: 0.0600 - accuracy: 0.9798INFO:tensorflow:Assets written to: output\\best_model\\assets\n"
     ]
    },
    {
     "name": "stderr",
     "output_type": "stream",
     "text": [
      "INFO:tensorflow:Assets written to: output\\best_model\\assets\n"
     ]
    },
    {
     "name": "stdout",
     "output_type": "stream",
     "text": [
      "935/935 [==============================] - 221s 237ms/step - loss: 0.0600 - accuracy: 0.9798 - val_loss: 0.0626 - val_accuracy: 0.9793\n",
      "Epoch 70/100\n",
      "935/935 [==============================] - ETA: 0s - loss: 0.0598 - accuracy: 0.9799INFO:tensorflow:Assets written to: output\\best_model\\assets\n"
     ]
    },
    {
     "name": "stderr",
     "output_type": "stream",
     "text": [
      "INFO:tensorflow:Assets written to: output\\best_model\\assets\n"
     ]
    },
    {
     "name": "stdout",
     "output_type": "stream",
     "text": [
      "935/935 [==============================] - 208s 223ms/step - loss: 0.0598 - accuracy: 0.9799 - val_loss: 0.0625 - val_accuracy: 0.9796\n",
      "Epoch 71/100\n",
      "935/935 [==============================] - ETA: 0s - loss: 0.0595 - accuracy: 0.9799INFO:tensorflow:Assets written to: output\\best_model\\assets\n"
     ]
    },
    {
     "name": "stderr",
     "output_type": "stream",
     "text": [
      "INFO:tensorflow:Assets written to: output\\best_model\\assets\n"
     ]
    },
    {
     "name": "stdout",
     "output_type": "stream",
     "text": [
      "935/935 [==============================] - 213s 228ms/step - loss: 0.0595 - accuracy: 0.9799 - val_loss: 0.0622 - val_accuracy: 0.9796\n",
      "Epoch 72/100\n",
      "935/935 [==============================] - 212s 227ms/step - loss: 0.0592 - accuracy: 0.9801 - val_loss: 0.0623 - val_accuracy: 0.9798\n",
      "Epoch 73/100\n",
      "935/935 [==============================] - ETA: 0s - loss: 0.0590 - accuracy: 0.9802INFO:tensorflow:Assets written to: output\\best_model\\assets\n"
     ]
    },
    {
     "name": "stderr",
     "output_type": "stream",
     "text": [
      "INFO:tensorflow:Assets written to: output\\best_model\\assets\n"
     ]
    },
    {
     "name": "stdout",
     "output_type": "stream",
     "text": [
      "935/935 [==============================] - 238s 254ms/step - loss: 0.0590 - accuracy: 0.9802 - val_loss: 0.0619 - val_accuracy: 0.9799\n",
      "Epoch 74/100\n",
      "935/935 [==============================] - ETA: 0s - loss: 0.0587 - accuracy: 0.9804INFO:tensorflow:Assets written to: output\\best_model\\assets\n"
     ]
    },
    {
     "name": "stderr",
     "output_type": "stream",
     "text": [
      "INFO:tensorflow:Assets written to: output\\best_model\\assets\n"
     ]
    },
    {
     "name": "stdout",
     "output_type": "stream",
     "text": [
      "935/935 [==============================] - 253s 270ms/step - loss: 0.0587 - accuracy: 0.9804 - val_loss: 0.0618 - val_accuracy: 0.9799\n",
      "Epoch 75/100\n",
      "935/935 [==============================] - ETA: 0s - loss: 0.0584 - accuracy: 0.9803INFO:tensorflow:Assets written to: output\\best_model\\assets\n"
     ]
    },
    {
     "name": "stderr",
     "output_type": "stream",
     "text": [
      "INFO:tensorflow:Assets written to: output\\best_model\\assets\n"
     ]
    },
    {
     "name": "stdout",
     "output_type": "stream",
     "text": [
      "935/935 [==============================] - 194s 208ms/step - loss: 0.0584 - accuracy: 0.9803 - val_loss: 0.0611 - val_accuracy: 0.9801\n",
      "Epoch 76/100\n",
      "935/935 [==============================] - ETA: 0s - loss: 0.0582 - accuracy: 0.9803INFO:tensorflow:Assets written to: output\\best_model\\assets\n"
     ]
    },
    {
     "name": "stderr",
     "output_type": "stream",
     "text": [
      "INFO:tensorflow:Assets written to: output\\best_model\\assets\n"
     ]
    },
    {
     "name": "stdout",
     "output_type": "stream",
     "text": [
      "935/935 [==============================] - 218s 233ms/step - loss: 0.0582 - accuracy: 0.9803 - val_loss: 0.0608 - val_accuracy: 0.9801\n",
      "Epoch 77/100\n",
      "935/935 [==============================] - ETA: 0s - loss: 0.0579 - accuracy: 0.9806INFO:tensorflow:Assets written to: output\\best_model\\assets\n"
     ]
    },
    {
     "name": "stderr",
     "output_type": "stream",
     "text": [
      "INFO:tensorflow:Assets written to: output\\best_model\\assets\n"
     ]
    },
    {
     "name": "stdout",
     "output_type": "stream",
     "text": [
      "935/935 [==============================] - 218s 233ms/step - loss: 0.0579 - accuracy: 0.9806 - val_loss: 0.0606 - val_accuracy: 0.9805\n",
      "Epoch 78/100\n",
      "935/935 [==============================] - ETA: 0s - loss: 0.0576 - accuracy: 0.9807INFO:tensorflow:Assets written to: output\\best_model\\assets\n"
     ]
    },
    {
     "name": "stderr",
     "output_type": "stream",
     "text": [
      "INFO:tensorflow:Assets written to: output\\best_model\\assets\n"
     ]
    },
    {
     "name": "stdout",
     "output_type": "stream",
     "text": [
      "935/935 [==============================] - 218s 234ms/step - loss: 0.0576 - accuracy: 0.9807 - val_loss: 0.0603 - val_accuracy: 0.9806\n",
      "Epoch 79/100\n",
      "935/935 [==============================] - ETA: 0s - loss: 0.0573 - accuracy: 0.9809INFO:tensorflow:Assets written to: output\\best_model\\assets\n"
     ]
    },
    {
     "name": "stderr",
     "output_type": "stream",
     "text": [
      "INFO:tensorflow:Assets written to: output\\best_model\\assets\n"
     ]
    },
    {
     "name": "stdout",
     "output_type": "stream",
     "text": [
      "935/935 [==============================] - 219s 235ms/step - loss: 0.0573 - accuracy: 0.9809 - val_loss: 0.0602 - val_accuracy: 0.9799\n",
      "Epoch 80/100\n",
      "935/935 [==============================] - ETA: 0s - loss: 0.0571 - accuracy: 0.9807INFO:tensorflow:Assets written to: output\\best_model\\assets\n"
     ]
    },
    {
     "name": "stderr",
     "output_type": "stream",
     "text": [
      "INFO:tensorflow:Assets written to: output\\best_model\\assets\n"
     ]
    },
    {
     "name": "stdout",
     "output_type": "stream",
     "text": [
      "935/935 [==============================] - 215s 230ms/step - loss: 0.0571 - accuracy: 0.9807 - val_loss: 0.0599 - val_accuracy: 0.9805\n",
      "Epoch 81/100\n",
      "935/935 [==============================] - ETA: 0s - loss: 0.0568 - accuracy: 0.9810INFO:tensorflow:Assets written to: output\\best_model\\assets\n"
     ]
    },
    {
     "name": "stderr",
     "output_type": "stream",
     "text": [
      "INFO:tensorflow:Assets written to: output\\best_model\\assets\n"
     ]
    },
    {
     "name": "stdout",
     "output_type": "stream",
     "text": [
      "935/935 [==============================] - 205s 220ms/step - loss: 0.0568 - accuracy: 0.9810 - val_loss: 0.0595 - val_accuracy: 0.9808\n",
      "Epoch 82/100\n",
      "935/935 [==============================] - ETA: 0s - loss: 0.0566 - accuracy: 0.9811INFO:tensorflow:Assets written to: output\\best_model\\assets\n"
     ]
    },
    {
     "name": "stderr",
     "output_type": "stream",
     "text": [
      "INFO:tensorflow:Assets written to: output\\best_model\\assets\n"
     ]
    },
    {
     "name": "stdout",
     "output_type": "stream",
     "text": [
      "935/935 [==============================] - 216s 232ms/step - loss: 0.0566 - accuracy: 0.9811 - val_loss: 0.0593 - val_accuracy: 0.9810\n",
      "Epoch 83/100\n",
      "935/935 [==============================] - ETA: 0s - loss: 0.0564 - accuracy: 0.9812INFO:tensorflow:Assets written to: output\\best_model\\assets\n"
     ]
    },
    {
     "name": "stderr",
     "output_type": "stream",
     "text": [
      "INFO:tensorflow:Assets written to: output\\best_model\\assets\n"
     ]
    },
    {
     "name": "stdout",
     "output_type": "stream",
     "text": [
      "935/935 [==============================] - 217s 232ms/step - loss: 0.0564 - accuracy: 0.9812 - val_loss: 0.0593 - val_accuracy: 0.9811\n",
      "Epoch 84/100\n",
      "935/935 [==============================] - ETA: 0s - loss: 0.0561 - accuracy: 0.9815INFO:tensorflow:Assets written to: output\\best_model\\assets\n"
     ]
    },
    {
     "name": "stderr",
     "output_type": "stream",
     "text": [
      "INFO:tensorflow:Assets written to: output\\best_model\\assets\n"
     ]
    },
    {
     "name": "stdout",
     "output_type": "stream",
     "text": [
      "935/935 [==============================] - 215s 230ms/step - loss: 0.0561 - accuracy: 0.9815 - val_loss: 0.0588 - val_accuracy: 0.9810\n",
      "Epoch 85/100\n",
      "935/935 [==============================] - ETA: 0s - loss: 0.0559 - accuracy: 0.9812INFO:tensorflow:Assets written to: output\\best_model\\assets\n"
     ]
    },
    {
     "name": "stderr",
     "output_type": "stream",
     "text": [
      "INFO:tensorflow:Assets written to: output\\best_model\\assets\n"
     ]
    },
    {
     "name": "stdout",
     "output_type": "stream",
     "text": [
      "935/935 [==============================] - 212s 227ms/step - loss: 0.0559 - accuracy: 0.9812 - val_loss: 0.0587 - val_accuracy: 0.9811\n",
      "Epoch 86/100\n",
      "935/935 [==============================] - ETA: 0s - loss: 0.0556 - accuracy: 0.9815INFO:tensorflow:Assets written to: output\\best_model\\assets\n"
     ]
    },
    {
     "name": "stderr",
     "output_type": "stream",
     "text": [
      "INFO:tensorflow:Assets written to: output\\best_model\\assets\n"
     ]
    },
    {
     "name": "stdout",
     "output_type": "stream",
     "text": [
      "935/935 [==============================] - 215s 230ms/step - loss: 0.0556 - accuracy: 0.9815 - val_loss: 0.0585 - val_accuracy: 0.9808\n",
      "Epoch 87/100\n",
      "935/935 [==============================] - ETA: 0s - loss: 0.0554 - accuracy: 0.9815INFO:tensorflow:Assets written to: output\\best_model\\assets\n"
     ]
    },
    {
     "name": "stderr",
     "output_type": "stream",
     "text": [
      "INFO:tensorflow:Assets written to: output\\best_model\\assets\n"
     ]
    },
    {
     "name": "stdout",
     "output_type": "stream",
     "text": [
      "935/935 [==============================] - 215s 230ms/step - loss: 0.0554 - accuracy: 0.9815 - val_loss: 0.0582 - val_accuracy: 0.9814\n",
      "Epoch 88/100\n",
      "935/935 [==============================] - ETA: 0s - loss: 0.0552 - accuracy: 0.9815INFO:tensorflow:Assets written to: output\\best_model\\assets\n"
     ]
    },
    {
     "name": "stderr",
     "output_type": "stream",
     "text": [
      "INFO:tensorflow:Assets written to: output\\best_model\\assets\n"
     ]
    },
    {
     "name": "stdout",
     "output_type": "stream",
     "text": [
      "935/935 [==============================] - 211s 226ms/step - loss: 0.0552 - accuracy: 0.9815 - val_loss: 0.0580 - val_accuracy: 0.9812\n",
      "Epoch 89/100\n",
      "935/935 [==============================] - ETA: 0s - loss: 0.0550 - accuracy: 0.9817INFO:tensorflow:Assets written to: output\\best_model\\assets\n"
     ]
    },
    {
     "name": "stderr",
     "output_type": "stream",
     "text": [
      "INFO:tensorflow:Assets written to: output\\best_model\\assets\n"
     ]
    },
    {
     "name": "stdout",
     "output_type": "stream",
     "text": [
      "935/935 [==============================] - 186s 199ms/step - loss: 0.0550 - accuracy: 0.9817 - val_loss: 0.0579 - val_accuracy: 0.9807\n",
      "Epoch 90/100\n",
      "935/935 [==============================] - ETA: 0s - loss: 0.0547 - accuracy: 0.9817INFO:tensorflow:Assets written to: output\\best_model\\assets\n"
     ]
    },
    {
     "name": "stderr",
     "output_type": "stream",
     "text": [
      "INFO:tensorflow:Assets written to: output\\best_model\\assets\n"
     ]
    },
    {
     "name": "stdout",
     "output_type": "stream",
     "text": [
      "935/935 [==============================] - 217s 233ms/step - loss: 0.0547 - accuracy: 0.9817 - val_loss: 0.0576 - val_accuracy: 0.9814\n",
      "Epoch 91/100\n",
      "935/935 [==============================] - ETA: 0s - loss: 0.0545 - accuracy: 0.9818INFO:tensorflow:Assets written to: output\\best_model\\assets\n"
     ]
    },
    {
     "name": "stderr",
     "output_type": "stream",
     "text": [
      "INFO:tensorflow:Assets written to: output\\best_model\\assets\n"
     ]
    },
    {
     "name": "stdout",
     "output_type": "stream",
     "text": [
      "935/935 [==============================] - 198s 211ms/step - loss: 0.0545 - accuracy: 0.9818 - val_loss: 0.0573 - val_accuracy: 0.9814\n",
      "Epoch 92/100\n",
      "935/935 [==============================] - 212s 227ms/step - loss: 0.0543 - accuracy: 0.9818 - val_loss: 0.0573 - val_accuracy: 0.9811\n",
      "Epoch 93/100\n",
      "935/935 [==============================] - ETA: 0s - loss: 0.0541 - accuracy: 0.9820INFO:tensorflow:Assets written to: output\\best_model\\assets\n"
     ]
    },
    {
     "name": "stderr",
     "output_type": "stream",
     "text": [
      "INFO:tensorflow:Assets written to: output\\best_model\\assets\n"
     ]
    },
    {
     "name": "stdout",
     "output_type": "stream",
     "text": [
      "935/935 [==============================] - 215s 230ms/step - loss: 0.0541 - accuracy: 0.9820 - val_loss: 0.0571 - val_accuracy: 0.9817\n",
      "Epoch 94/100\n",
      "935/935 [==============================] - ETA: 0s - loss: 0.0539 - accuracy: 0.9820INFO:tensorflow:Assets written to: output\\best_model\\assets\n"
     ]
    },
    {
     "name": "stderr",
     "output_type": "stream",
     "text": [
      "INFO:tensorflow:Assets written to: output\\best_model\\assets\n"
     ]
    },
    {
     "name": "stdout",
     "output_type": "stream",
     "text": [
      "935/935 [==============================] - 217s 232ms/step - loss: 0.0539 - accuracy: 0.9820 - val_loss: 0.0568 - val_accuracy: 0.9814\n",
      "Epoch 95/100\n",
      "935/935 [==============================] - ETA: 0s - loss: 0.0537 - accuracy: 0.9822INFO:tensorflow:Assets written to: output\\best_model\\assets\n"
     ]
    },
    {
     "name": "stderr",
     "output_type": "stream",
     "text": [
      "INFO:tensorflow:Assets written to: output\\best_model\\assets\n"
     ]
    },
    {
     "name": "stdout",
     "output_type": "stream",
     "text": [
      "935/935 [==============================] - 217s 232ms/step - loss: 0.0537 - accuracy: 0.9822 - val_loss: 0.0566 - val_accuracy: 0.9817\n",
      "Epoch 96/100\n",
      "935/935 [==============================] - 220s 235ms/step - loss: 0.0535 - accuracy: 0.9821 - val_loss: 0.0570 - val_accuracy: 0.9814\n",
      "Epoch 97/100\n",
      "935/935 [==============================] - ETA: 0s - loss: 0.0533 - accuracy: 0.9821INFO:tensorflow:Assets written to: output\\best_model\\assets\n"
     ]
    },
    {
     "name": "stderr",
     "output_type": "stream",
     "text": [
      "INFO:tensorflow:Assets written to: output\\best_model\\assets\n"
     ]
    },
    {
     "name": "stdout",
     "output_type": "stream",
     "text": [
      "935/935 [==============================] - 221s 237ms/step - loss: 0.0533 - accuracy: 0.9821 - val_loss: 0.0562 - val_accuracy: 0.9816\n",
      "Epoch 98/100\n",
      "935/935 [==============================] - ETA: 0s - loss: 0.0531 - accuracy: 0.9822INFO:tensorflow:Assets written to: output\\best_model\\assets\n"
     ]
    },
    {
     "name": "stderr",
     "output_type": "stream",
     "text": [
      "INFO:tensorflow:Assets written to: output\\best_model\\assets\n"
     ]
    },
    {
     "name": "stdout",
     "output_type": "stream",
     "text": [
      "935/935 [==============================] - 215s 230ms/step - loss: 0.0531 - accuracy: 0.9822 - val_loss: 0.0561 - val_accuracy: 0.9817\n",
      "Epoch 99/100\n",
      "935/935 [==============================] - ETA: 0s - loss: 0.0530 - accuracy: 0.9823INFO:tensorflow:Assets written to: output\\best_model\\assets\n"
     ]
    },
    {
     "name": "stderr",
     "output_type": "stream",
     "text": [
      "INFO:tensorflow:Assets written to: output\\best_model\\assets\n"
     ]
    },
    {
     "name": "stdout",
     "output_type": "stream",
     "text": [
      "935/935 [==============================] - 217s 232ms/step - loss: 0.0530 - accuracy: 0.9823 - val_loss: 0.0559 - val_accuracy: 0.9818\n",
      "Epoch 100/100\n",
      "935/935 [==============================] - 217s 232ms/step - loss: 0.0527 - accuracy: 0.9823 - val_loss: 0.0559 - val_accuracy: 0.9819\n"
     ]
    }
   ],
   "source": [
    "history = model.fit(\n",
    "    x=X_train,\n",
    "    y=y_train,\n",
    "    validation_data=(X_test, y_test),\n",
    "    batch_size=128,\n",
    "    epochs=100,\n",
    "    callbacks=callbacks\n",
    ")"
   ]
  },
  {
   "cell_type": "markdown",
   "metadata": {},
   "source": [
    "### Loading best model from file and forming predictions"
   ]
  },
  {
   "cell_type": "code",
   "execution_count": 33,
   "metadata": {},
   "outputs": [],
   "source": [
    "model = tf.keras.models.load_model('output/best_model')"
   ]
  },
  {
   "cell_type": "code",
   "execution_count": 34,
   "metadata": {},
   "outputs": [
    {
     "name": "stdout",
     "output_type": "stream",
     "text": [
      "  20/1246 [..............................] - ETA: 6s"
     ]
    },
    {
     "name": "stderr",
     "output_type": "stream",
     "text": [
      "c:\\Users\\48795\\anaconda3\\envs\\Python3115-tensorflow\\Lib\\site-packages\\tensorflow\\python\\data\\ops\\structured_function.py:258: UserWarning: Even though the `tf.config.experimental_run_functions_eagerly` option is set, this option does not apply to tf.data functions. To force eager execution of tf.data functions, please use `tf.data.experimental.enable_debug_mode()`.\n",
      "  warnings.warn(\n"
     ]
    },
    {
     "name": "stdout",
     "output_type": "stream",
     "text": [
      "1246/1246 [==============================] - 6s 5ms/step\n"
     ]
    }
   ],
   "source": [
    "y_pred = model.predict(X_test)"
   ]
  },
  {
   "cell_type": "markdown",
   "metadata": {},
   "source": [
    "### Displaying ROC Curve, history of learning and Classification report"
   ]
  },
  {
   "cell_type": "code",
   "execution_count": 35,
   "metadata": {},
   "outputs": [
    {
     "data": {
      "image/png": "[encoded data removed]",
      "text/plain": [
       "<Figure size 640x480 with 1 Axes>"
      ]
     },
     "metadata": {},
     "output_type": "display_data"
    }
   ],
   "source": [
    "rf_fpr, rf_tpr, rf_threshold = roc_curve(y_test, y_pred)\n",
    "RocCurveDisplay(fpr=rf_fpr, tpr=rf_tpr).from_predictions(y_test, y_pred);"
   ]
  },
  {
   "cell_type": "code",
   "execution_count": 36,
   "metadata": {},
   "outputs": [
    {
     "data": {
      "image/png": "[encoded data removed]",
      "text/plain": [
       "<Figure size 640x480 with 1 Axes>"
      ]
     },
     "metadata": {},
     "output_type": "display_data"
    }
   ],
   "source": [
    "history_dict = history.history\n",
    "\n",
    "acc = history_dict['accuracy']\n",
    "loss = history_dict['loss']\n",
    "\n",
    "epochs = range(1, len(acc) + 1)\n",
    "\n",
    "plt.plot(epochs, loss, 'bo', label='Training loss')\n",
    "plt.plot(epochs, acc, 'b', label='Training acc')\n",
    "\n",
    "plt.title('Training accuracy and loss')\n",
    "plt.xlabel('Epochs')\n",
    "plt.ylabel('Loss')\n",
    "plt.legend()\n",
    "\n",
    "plt.show()"
   ]
  },
  {
   "cell_type": "code",
   "execution_count": 42,
   "metadata": {},
   "outputs": [
    {
     "name": "stdout",
     "output_type": "stream",
     "text": [
      "              precision    recall  f1-score   support\n",
      "\n",
      "           0       1.00      0.95      0.97     28980\n",
      "           1       0.88      0.99      0.93     10884\n",
      "\n",
      "    accuracy                           0.96     39864\n",
      "   macro avg       0.94      0.97      0.95     39864\n",
      "weighted avg       0.96      0.96      0.96     39864\n",
      "\n"
     ]
    }
   ],
   "source": [
    "print(classification_report(y_test, y_pred > 0.1))"
   ]
  },
  {
   "cell_type": "markdown",
   "metadata": {},
   "source": [
    "### Saving prediction to submission.csv as required"
   ]
  },
  {
   "cell_type": "code",
   "execution_count": 37,
   "metadata": {},
   "outputs": [
    {
     "name": "stdout",
     "output_type": "stream",
     "text": [
      "1/1 [==============================] - 0s 20ms/step\n"
     ]
    },
    {
     "name": "stderr",
     "output_type": "stream",
     "text": [
      "c:\\Users\\48795\\anaconda3\\envs\\Python3115-tensorflow\\Lib\\site-packages\\tensorflow\\python\\data\\ops\\structured_function.py:258: UserWarning: Even though the `tf.config.experimental_run_functions_eagerly` option is set, this option does not apply to tf.data functions. To force eager execution of tf.data functions, please use `tf.data.experimental.enable_debug_mode()`.\n",
      "  warnings.warn(\n"
     ]
    }
   ],
   "source": [
    "df_test = pd.read_csv('data/test_essays.csv')\n",
    "prediction = model.predict(df_test['text'])\n",
    "output = pd.DataFrame({'id': df_test.id, 'generated': prediction[:,0]})\n",
    "output.to_csv('output/submission.csv', index=False)"
   ]
  }
 ],
 "metadata": {
  "kernelspec": {
   "display_name": "Python3115-tensorflow",
   "language": "python",
   "name": "python3"
  },
  "language_info": {
   "codemirror_mode": {
    "name": "ipython",
    "version": 3
   },
   "file_extension": ".py",
   "mimetype": "text/x-python",
   "name": "python",
   "nbconvert_exporter": "python",
   "pygments_lexer": "ipython3",
   "version": "3.11.5"
  }
 },
 "nbformat": 4,
 "nbformat_minor": 2
}
